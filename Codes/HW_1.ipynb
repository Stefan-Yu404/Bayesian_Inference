{
 "cells": [
  {
   "cell_type": "markdown",
   "metadata": {
    "id": "0sD7UGhxLdsM"
   },
   "source": [
    "# HW #1"
   ]
  },
  {
   "cell_type": "code",
   "execution_count": 3,
   "metadata": {
    "id": "ZA-mMwekBGEq"
   },
   "outputs": [],
   "source": [
    "import numpy as np\n",
    "import random\n",
    "import matplotlib.pyplot as plt \n",
    "import seaborn as sns\n",
    "from scipy.stats import*\n",
    "import math\n",
    "import pandas as pd"
   ]
  },
  {
   "cell_type": "markdown",
   "metadata": {
    "id": "3tGMqjpuI7om"
   },
   "source": [
    "## Question 1: Random walk\n",
    "\n",
    "### 50 steps"
   ]
  },
  {
   "cell_type": "code",
   "execution_count": 18,
   "metadata": {
    "id": "PsGOvapwIYtT"
   },
   "outputs": [],
   "source": [
    "def random_walk(n):\n",
    "  x = np.zeros(n) \n",
    "  y = np.zeros(n)\n",
    "  for i in range(n):\n",
    "    x[i] = x[i-1] + np.random.normal(0,1) \n",
    "    y[i] = y[i-1] + np.random.normal(0,1)\n",
    "  return x,y\n",
    "\n",
    "def get_loc():\n",
    "  x_all,y_all = random_walk(n=50)\n",
    "  point = [x_all[-1], y_all[-1]]\n",
    "  a = [0, 0, 0, 0]\n",
    "  if ((point[0]>0) or (point[0]==0))  and point[1]>0: \n",
    "    a[0]+=1\n",
    "  if point[0]<0 and (point[1]>0 or point[1] == 0): \n",
    "    a[1]+=1\n",
    "  if ((point[0]<0) or (point[0]==0)) and point[1]<0: \n",
    "    a[2]+=1\n",
    "  if point[0]>0 and (point[1]< 0 or point[1] == 0): \n",
    "    a[3]+=1\n",
    "  return a\n",
    "\n",
    "\n",
    "def Trials(n : int = 10000):\n",
    "  initial = np.array([0,0,0,0], dtype = \"float64\")\n",
    "  for _ in range(n):\n",
    "    finalLocation = get_loc()\n",
    "    initial += finalLocation\n",
    "  return initial"
   ]
  },
  {
   "cell_type": "code",
   "execution_count": 19,
   "metadata": {
    "colab": {
     "base_uri": "https://localhost:8080/",
     "height": 281
    },
    "id": "5JxNosKiJF-w",
    "outputId": "006684c9-c1e0-4224-9984-fac9b2aad3c7"
   },
   "outputs": [
    {
     "data": {
      "image/png": "[encoded data removed]",
      "text/plain": [
       "<Figure size 432x288 with 1 Axes>"
      ]
     },
     "metadata": {
      "needs_background": "light"
     },
     "output_type": "display_data"
    }
   ],
   "source": [
    "x, y = random_walk(50)\n",
    "plt.plot(x,y)\n",
    "plt.title(\"Random Walk on 50 steps\")\n",
    "plt.show()"
   ]
  },
  {
   "cell_type": "markdown",
   "metadata": {
    "id": "ytwWhmN90BLo"
   },
   "source": [
    "#### Report the number that ends in each quadrant"
   ]
  },
  {
   "cell_type": "code",
   "execution_count": 20,
   "metadata": {
    "colab": {
     "base_uri": "https://localhost:8080/"
    },
    "id": "zEOvMW7z0Apw",
    "outputId": "60615b53-5232-45b1-b2e5-27e615608f1b"
   },
   "outputs": [
    {
     "data": {
      "text/plain": [
       "array([2500., 2557., 2446., 2497.])"
      ]
     },
     "execution_count": 20,
     "metadata": {},
     "output_type": "execute_result"
    }
   ],
   "source": [
    "num_counts = Trials()\n",
    "num_counts"
   ]
  },
  {
   "cell_type": "markdown",
   "metadata": {
    "id": "hTKAKjy73efG"
   },
   "source": [
    "#### What values would you expect for these proportions? Do the observed proportions vary significantly from the expected values?"
   ]
  },
  {
   "cell_type": "markdown",
   "metadata": {
    "id": "NTIEFP313l3q"
   },
   "source": [
    "I think $p_1 = p_2 = p_3 = p_4 = \\frac{1}{4}$.  \n",
    "I plan to do Chi-square test where:\n",
    "\n",
    "$H_0: $ $p_1 = p_2 = p_3 = p_4 = \\frac{1}{4}$.  \n",
    "\n",
    "$H_a: $ not all $p_is $ are equal \n",
    "\n",
    "Then the test Statistic $\\sum_{i=1}^{i=4}\\frac{\\frac{f_i}{N} - \\frac{1}{4} }{1/4}$ follows $\\chi^2(3)$"
   ]
  },
  {
   "cell_type": "code",
   "execution_count": 23,
   "metadata": {
    "colab": {
     "base_uri": "https://localhost:8080/"
    },
    "id": "mGvozni03eBo",
    "outputId": "f0a1f519-ee21-44be-abb2-beddccc8f6bc"
   },
   "outputs": [
    {
     "name": "stdout",
     "output_type": "stream",
     "text": [
      "The p-value is 1.00000, so we accept the null hypothesis.\n"
     ]
    }
   ],
   "source": [
    "H_0 = np.array([1/4, 1/4, 1/4, 1/4])\n",
    "chisq, p = chisquare(num_counts/np.sum(num_counts), f_exp=H_0, ddof=0)\n",
    "print(f\"The p-value is {p:4.5f}, so we accept the null hypothesis.\")"
   ]
  },
  {
   "cell_type": "markdown",
   "metadata": {
    "id": "EOLHEdds5_0o"
   },
   "source": [
    "#### 1b 500 steps"
   ]
  },
  {
   "cell_type": "code",
   "execution_count": 24,
   "metadata": {
    "id": "3QmFpE1D59oD"
   },
   "outputs": [],
   "source": [
    "def random_walk(n):\n",
    "  x = np.zeros(n) \n",
    "  y = np.zeros(n)\n",
    "  for i in range(n):\n",
    "    x[i] = x[i-1] + np.random.normal(0,1) \n",
    "    y[i] = y[i-1] + np.random.normal(0,1)\n",
    "  return x,y\n",
    "\n",
    "def get_loc():\n",
    "  x_all,y_all = random_walk(n=500)\n",
    "  point = [x_all[-1], y_all[-1]]\n",
    "  a = [0, 0, 0, 0]\n",
    "  if ((point[0]>0) or (point[0]==0))  and point[1]>0: \n",
    "    a[0]+=1\n",
    "  if point[0]<0 and (point[1]>0 or point[1] == 0): \n",
    "    a[1]+=1\n",
    "  if ((point[0]<0) or (point[0]==0)) and point[1]<0: \n",
    "    a[2]+=1\n",
    "  if point[0]>0 and (point[1]< 0 or point[1] == 0): \n",
    "    a[3]+=1\n",
    "  return a\n",
    "\n",
    "\n",
    "def Trials(n : int = 10000):\n",
    "  initial = np.array([0,0,0,0], dtype = \"float64\")\n",
    "  for _ in range(n):\n",
    "    finalLocation = get_loc()\n",
    "    initial += finalLocation\n",
    "  return initial"
   ]
  },
  {
   "cell_type": "code",
   "execution_count": 27,
   "metadata": {
    "colab": {
     "base_uri": "https://localhost:8080/",
     "height": 281
    },
    "id": "_mwcj7_Q6eTn",
    "outputId": "f8a216e2-40bc-4985-82ba-2fa1efa35eb9"
   },
   "outputs": [
    {
     "data": {
      "image/png": "[encoded data removed]",
      "text/plain": [
       "<Figure size 432x288 with 1 Axes>"
      ]
     },
     "metadata": {
      "needs_background": "light"
     },
     "output_type": "display_data"
    }
   ],
   "source": [
    "x, y = random_walk(500)\n",
    "plt.plot(x,y)\n",
    "plt.title(\"Random Walk on 50 steps\")\n",
    "plt.show()"
   ]
  },
  {
   "cell_type": "code",
   "execution_count": 25,
   "metadata": {
    "colab": {
     "base_uri": "https://localhost:8080/"
    },
    "id": "oBGTcd5e6KQs",
    "outputId": "7d5bb3d3-2571-4829-dba4-6111fedc05b4"
   },
   "outputs": [
    {
     "data": {
      "text/plain": [
       "array([2511., 2423., 2497., 2569.])"
      ]
     },
     "execution_count": 25,
     "metadata": {},
     "output_type": "execute_result"
    }
   ],
   "source": [
    "num_counts = Trials()\n",
    "num_counts"
   ]
  },
  {
   "cell_type": "code",
   "execution_count": 26,
   "metadata": {
    "colab": {
     "base_uri": "https://localhost:8080/"
    },
    "id": "jQOKwDwl6RUV",
    "outputId": "bf32676a-eb2f-43a0-89ce-479ae0696140"
   },
   "outputs": [
    {
     "name": "stdout",
     "output_type": "stream",
     "text": [
      "The p-value is 1.00000, so we accept the null hypothesis.\n"
     ]
    }
   ],
   "source": [
    "H_0 = np.array([1/4, 1/4, 1/4, 1/4])\n",
    "chisq, p = chisquare(num_counts/np.sum(num_counts), f_exp=H_0, ddof=0)\n",
    "print(f\"The p-value is {p:4.5f}, so we accept the null hypothesis.\")"
   ]
  },
  {
   "cell_type": "markdown",
   "metadata": {
    "id": "SY1bpEhmf4QO"
   },
   "source": [
    "#### 1c repeate 1a, random walk with lattice"
   ]
  },
  {
   "cell_type": "code",
   "execution_count": 33,
   "metadata": {
    "id": "x-zLrCJx3VW1"
   },
   "outputs": [],
   "source": [
    "def random_walk(n):\n",
    "  x = np.zeros(n) \n",
    "  y = np.zeros(n)\n",
    "  for i in range(n):\n",
    "    x[i] = x[i-1] + random.randint(-1,1) \n",
    "    y[i] = y[i-1] + random.randint(-1,1)\n",
    "  return x,y\n",
    "\n",
    "def get_loc():\n",
    "  x_all,y_all = random_walk(n=50)\n",
    "  point = [x_all[-1], y_all[-1]]\n",
    "  a = [0, 0, 0, 0]\n",
    "  if ((point[0]>0) or (point[0]==0))  and point[1]>0: \n",
    "    a[0]+=1\n",
    "  if point[0]<0 and (point[1]>0 or point[1] == 0): \n",
    "    a[1]+=1\n",
    "  if ((point[0]<0) or (point[0]==0)) and point[1]<0: \n",
    "    a[2]+=1\n",
    "  if point[0]>0 and (point[1]< 0 or point[1] == 0): \n",
    "    a[3]+=1\n",
    "  return a\n",
    "\n",
    "\n",
    "def Trials(n : int = 10000):\n",
    "  initial = np.array([0,0,0,0], dtype = \"float64\")\n",
    "  for _ in range(n):\n",
    "    finalLocation = get_loc()\n",
    "    initial += finalLocation\n",
    "  return initial"
   ]
  },
  {
   "cell_type": "code",
   "execution_count": 34,
   "metadata": {
    "colab": {
     "base_uri": "https://localhost:8080/",
     "height": 281
    },
    "id": "QbWI2Pqif6T6",
    "outputId": "176ccc18-b64d-4888-9ee8-bd5129661f84"
   },
   "outputs": [
    {
     "data": {
      "image/png": "[encoded data removed]",
      "text/plain": [
       "<Figure size 432x288 with 1 Axes>"
      ]
     },
     "metadata": {
      "needs_background": "light"
     },
     "output_type": "display_data"
    }
   ],
   "source": [
    "x,y = random_walk(50)\n",
    "plt.plot(x,y)\n",
    "plt.title(\"Random Walk on 50 steps, Lattice\")\n",
    "plt.grid()\n",
    "plt.show()"
   ]
  },
  {
   "cell_type": "code",
   "execution_count": 35,
   "metadata": {
    "colab": {
     "base_uri": "https://localhost:8080/"
    },
    "id": "z8eXUZZ2KgLA",
    "outputId": "365c7659-2c2e-4e6a-bc35-a86a64cb246b"
   },
   "outputs": [
    {
     "data": {
      "text/plain": [
       "array([2527., 2404., 2474., 2559.])"
      ]
     },
     "execution_count": 35,
     "metadata": {},
     "output_type": "execute_result"
    }
   ],
   "source": [
    "num_counts = Trials()\n",
    "num_counts"
   ]
  },
  {
   "cell_type": "code",
   "execution_count": 40,
   "metadata": {
    "colab": {
     "base_uri": "https://localhost:8080/"
    },
    "id": "9audW9bKLbm-",
    "outputId": "dd7ad602-3ac7-421b-ae43-b60a2b318c2b"
   },
   "outputs": [
    {
     "name": "stdout",
     "output_type": "stream",
     "text": [
      "when steps = 50, The p-value is 1.00000, so we accept the null hypothesis.\n"
     ]
    }
   ],
   "source": [
    "H_0 = np.array([1/4, 1/4, 1/4, 1/4])\n",
    "chisq, p = chisquare(num_counts/np.sum(num_counts), f_exp=H_0, ddof=0)\n",
    "print(f\"when steps = 50, The p-value is {p:4.5f}, so we accept the null hypothesis.\")"
   ]
  },
  {
   "cell_type": "code",
   "execution_count": 37,
   "metadata": {
    "id": "JNoKnGsx7JEH"
   },
   "outputs": [],
   "source": [
    "def random_walk(n): \n",
    "    x = np.zeros(n) \n",
    "  y = np.zeros(n)\n",
    "  for i in range(n):\n",
    "    x[i] = x[i-1] + random.randint(-1,1) \n",
    "    y[i] = y[i-1] + random.randint(-1,1)\n",
    "  return x,y\n",
    "\n",
    "def get_loc():\n",
    "  x_all,y_all = random_walk(n=500)\n",
    "  point = [x_all[-1], y_all[-1]]\n",
    "  a = [0, 0, 0, 0]\n",
    "  if ((point[0]>0) or (point[0]==0))  and point[1]>0: \n",
    "    a[0]+=1\n",
    "  if point[0]<0 and (point[1]>0 or point[1] == 0): \n",
    "    a[1]+=1\n",
    "  if ((point[0]<0) or (point[0]==0)) and point[1]<0: \n",
    "    a[2]+=1\n",
    "  if point[0]>0 and (point[1]< 0 or point[1] == 0): \n",
    "    a[3]+=1\n",
    "  return a\n",
    "\n",
    "\n",
    "def Trials(n : int = 10000):\n",
    "  initial = np.array([0,0,0,0], dtype = \"float64\")\n",
    "  for _ in range(n):\n",
    "    finalLocation = get_loc()\n",
    "    initial += finalLocation\n",
    "  return initial"
   ]
  },
  {
   "cell_type": "code",
   "execution_count": 38,
   "metadata": {
    "colab": {
     "base_uri": "https://localhost:8080/"
    },
    "id": "70PVg2bR7bxc",
    "outputId": "3aba90d1-18f8-480a-f3b3-f61e2ba6753f"
   },
   "outputs": [
    {
     "data": {
      "text/plain": [
       "array([2465., 2482., 2522., 2529.])"
      ]
     },
     "execution_count": 38,
     "metadata": {},
     "output_type": "execute_result"
    }
   ],
   "source": [
    "num_counts = Trials()\n",
    "num_counts"
   ]
  },
  {
   "cell_type": "code",
   "execution_count": 39,
   "metadata": {
    "colab": {
     "base_uri": "https://localhost:8080/"
    },
    "id": "UpNdCpDy7e7s",
    "outputId": "ae94fa3a-1cd5-4252-88a4-a1cc68098481"
   },
   "outputs": [
    {
     "name": "stdout",
     "output_type": "stream",
     "text": [
      "When steps = 500, The p-value is 1.00000, so we accept the null hypothesis.\n"
     ]
    }
   ],
   "source": [
    "H_0 = np.array([1/4, 1/4, 1/4, 1/4])\n",
    "chisq, p = chisquare(num_counts/np.sum(num_counts), f_exp=H_0, ddof=0)\n",
    "print(f\"When steps = 500, The p-value is {p:4.5f}, so we accept the null hypothesis.\")"
   ]
  },
  {
   "cell_type": "markdown",
   "metadata": {
    "id": "KG-MwG8diCUt"
   },
   "source": [
    "## Question 2\n",
    "#### Binomial"
   ]
  },
  {
   "cell_type": "code",
   "execution_count": 6,
   "metadata": {
    "colab": {
     "base_uri": "https://localhost:8080/",
     "height": 0
    },
    "id": "N5_SZBKXirUR",
    "outputId": "27d57818-c074-442a-c6f9-474681037ac8"
   },
   "outputs": [
    {
     "name": "stdout",
     "output_type": "stream",
     "text": [
      " Real SD is 1.1224972160321824 and Average is 12.6\n"
     ]
    }
   ],
   "source": [
    "E_x = 14*0.9\n",
    "Var_x = math.sqrt(14*0.9*0.1)\n",
    "# Var_x = 14*0.9*0.1\n",
    "print(f\" Real SD is {Var_x} and Average is {E_x}\")"
   ]
  },
  {
   "cell_type": "code",
   "execution_count": 38,
   "metadata": {
    "colab": {
     "base_uri": "https://localhost:8080/",
     "height": 0
    },
    "id": "DvUSr8Rbh-1k",
    "outputId": "4945a344-daa4-46b5-e25d-5b51b5c8e116"
   },
   "outputs": [
    {
     "name": "stdout",
     "output_type": "stream",
     "text": [
      "Average:  12.6182\n",
      "SD:  1.1098778130947569\n"
     ]
    }
   ],
   "source": [
    "s = np.random.binomial(14, 0.9, 10000)\n",
    "sample_ave = sum(s)/10000\n",
    "print(\"Average: \", sample_ave)\n",
    "sample_sd = np.std(s)\n",
    "print(\"SD: \", sample_sd)"
   ]
  },
  {
   "cell_type": "code",
   "execution_count": 45,
   "metadata": {
    "colab": {
     "base_uri": "https://localhost:8080/",
     "height": 0
    },
    "id": "5H9ZvkM2ibDi",
    "outputId": "dbae688c-509d-42d0-bf8b-759cb8367272"
   },
   "outputs": [
    {
     "name": "stdout",
     "output_type": "stream",
     "text": [
      "Average:  12.6034\n",
      "SD:  1.123391490087049\n"
     ]
    }
   ],
   "source": [
    "s = np.random.binomial(14, 0.9, 100000)\n",
    "sample_ave = sum(s)/100000\n",
    "print(\"Average: \", sample_ave)\n",
    "sample_sd = np.std(s)\n",
    "print(\"SD: \", sample_sd)"
   ]
  },
  {
   "cell_type": "code",
   "execution_count": 46,
   "metadata": {
    "colab": {
     "base_uri": "https://localhost:8080/",
     "height": 0
    },
    "id": "w94DMkjgjs4-",
    "outputId": "689e11b0-7360-4e26-d0b8-2ad6b69ccddb"
   },
   "outputs": [
    {
     "name": "stdout",
     "output_type": "stream",
     "text": [
      "Average:  12.601303\n",
      "SD:  1.1208959372711635\n"
     ]
    }
   ],
   "source": [
    "s = np.random.binomial(14, 0.9, 1000000)\n",
    "sample_ave = sum(s)/1000000\n",
    "print(\"Average: \", sample_ave)\n",
    "sample_sd = np.std(s)\n",
    "print(\"SD: \", sample_sd)"
   ]
  },
  {
   "cell_type": "code",
   "execution_count": 48,
   "metadata": {
    "colab": {
     "base_uri": "https://localhost:8080/",
     "height": 0
    },
    "id": "zI7JkK_4jwcz",
    "outputId": "6ff84157-995b-47f1-c569-81b7a8cbd57d"
   },
   "outputs": [
    {
     "name": "stdout",
     "output_type": "stream",
     "text": [
      "N              Average       SD\n",
      "-----------  ---------  -------\n",
      "n = 10000      12.6182  1.1098\n",
      "n = 100000     12.6034  1.1233\n",
      "n = 1000000    12.6013  1.12089\n",
      "Real           12.6     1.1225\n"
     ]
    }
   ],
   "source": [
    "from tabulate import tabulate\n",
    "data = [[\"n = 10000\", 12.6182, 1.1098], \n",
    " [\"n = 100000\", 12.6034, 1.1233], \n",
    " [\"n = 1000000\", 12.6013, 1.12089],\n",
    " [\"Real\", 12.6, 1.1224972]]\n",
    "col_names = [\"N\", \"Average\", \"SD\", \"Real\"]\n",
    "print(tabulate(data, headers=col_names))"
   ]
  },
  {
   "cell_type": "code",
   "execution_count": 49,
   "metadata": {
    "colab": {
     "base_uri": "https://localhost:8080/",
     "height": 339
    },
    "id": "uV22IlnNkbDH",
    "outputId": "375812b9-f994-4bba-acdd-0aa2022201c9"
   },
   "outputs": [
    {
     "name": "stderr",
     "output_type": "stream",
     "text": [
      "/usr/local/lib/python3.8/dist-packages/seaborn/distributions.py:2619: FutureWarning: `distplot` is a deprecated function and will be removed in a future version. Please adapt your code to use either `displot` (a figure-level function with similar flexibility) or `histplot` (an axes-level function for histograms).\n",
      "  warnings.warn(msg, FutureWarning)\n"
     ]
    },
    {
     "data": {
      "text/plain": [
       "<matplotlib.axes._subplots.AxesSubplot at 0x7faf81d9b310>"
      ]
     },
     "execution_count": 49,
     "metadata": {},
     "output_type": "execute_result"
    },
    {
     "data": {
      "image/png": "[encoded data removed]",
      "text/plain": [
       "<Figure size 432x288 with 1 Axes>"
      ]
     },
     "metadata": {
      "needs_background": "light"
     },
     "output_type": "display_data"
    }
   ],
   "source": [
    "sns.distplot(s)"
   ]
  },
  {
   "cell_type": "markdown",
   "metadata": {
    "id": "U-YFHvHykirD"
   },
   "source": [
    "#### Beta"
   ]
  },
  {
   "cell_type": "code",
   "execution_count": 50,
   "metadata": {
    "colab": {
     "base_uri": "https://localhost:8080/",
     "height": 0
    },
    "id": "V6PkFvG1kh-D",
    "outputId": "9027de2e-8fe9-4e4d-dc6b-1cf90dbde62b"
   },
   "outputs": [
    {
     "name": "stdout",
     "output_type": "stream",
     "text": [
      "Average:  0.5006940837676809\n",
      "SD:  0.3546848356974192\n"
     ]
    }
   ],
   "source": [
    "b = np.random.beta(0.5, 0.5, 10000)\n",
    "sample_ave = sum(b)/10000\n",
    "print(\"Average: \", sample_ave)\n",
    "sample_sd = np.std(b)\n",
    "print(\"SD: \", sample_sd)"
   ]
  },
  {
   "cell_type": "code",
   "execution_count": 51,
   "metadata": {
    "colab": {
     "base_uri": "https://localhost:8080/",
     "height": 0
    },
    "id": "hb0foyCdn3MA",
    "outputId": "9a866a6c-1220-4f4f-d11b-63099b6195a9"
   },
   "outputs": [
    {
     "name": "stdout",
     "output_type": "stream",
     "text": [
      "Average:  0.49866629516803057\n",
      "SD:  0.3529353802124357\n"
     ]
    }
   ],
   "source": [
    "b = np.random.beta(0.5, 0.5, 100000)\n",
    "sample_ave = sum(b)/100000\n",
    "print(\"Average: \", sample_ave)\n",
    "sample_sd = np.std(b)\n",
    "print(\"SD: \", sample_sd)"
   ]
  },
  {
   "cell_type": "code",
   "execution_count": 57,
   "metadata": {
    "colab": {
     "base_uri": "https://localhost:8080/",
     "height": 0
    },
    "id": "AdQO5jSln4JL",
    "outputId": "9c0aa235-23b9-4005-f5d2-493760ed6ed0"
   },
   "outputs": [
    {
     "name": "stdout",
     "output_type": "stream",
     "text": [
      "Average:  0.5006267563336168\n",
      "SD:  0.35358738422460273\n"
     ]
    }
   ],
   "source": [
    "b = np.random.beta(0.5, 0.5, 1000000)\n",
    "sample_ave = sum(b)/1000000\n",
    "print(\"Average: \", sample_ave)\n",
    "sample_sd = np.std(b)\n",
    "print(\"SD: \", sample_sd)"
   ]
  },
  {
   "cell_type": "code",
   "execution_count": 56,
   "metadata": {
    "colab": {
     "base_uri": "https://localhost:8080/",
     "height": 0
    },
    "id": "1iyQ0WC9n8J0",
    "outputId": "9dc46aa6-a298-481e-a028-8976c445a366"
   },
   "outputs": [
    {
     "name": "stdout",
     "output_type": "stream",
     "text": [
      "N              Average        SD\n",
      "-----------  ---------  --------\n",
      "n = 10000     0.500694  0.3546\n",
      "n = 100000    0.49866   0.3529\n",
      "n = 1000000   0.4998    0.353547\n"
     ]
    }
   ],
   "source": [
    "from tabulate import tabulate\n",
    "data = [[\"n = 10000\", 0.500694, 0.3546], \n",
    " [\"n = 100000\", 0.49866, 0.3529], \n",
    " [\"n = 1000000\", 0.4998, 0.353547]]\n",
    "col_names = [\"N\", \"Average\", \"SD\"]\n",
    "print(tabulate(data, headers=col_names))"
   ]
  },
  {
   "cell_type": "code",
   "execution_count": 58,
   "metadata": {
    "colab": {
     "base_uri": "https://localhost:8080/",
     "height": 339
    },
    "id": "G7jnmJTMoUWr",
    "outputId": "1909c6a8-b7bb-4d54-fab5-4bf1fdff6804"
   },
   "outputs": [
    {
     "name": "stderr",
     "output_type": "stream",
     "text": [
      "/usr/local/lib/python3.8/dist-packages/seaborn/distributions.py:2619: FutureWarning: `distplot` is a deprecated function and will be removed in a future version. Please adapt your code to use either `displot` (a figure-level function with similar flexibility) or `histplot` (an axes-level function for histograms).\n",
      "  warnings.warn(msg, FutureWarning)\n"
     ]
    },
    {
     "data": {
      "text/plain": [
       "<matplotlib.axes._subplots.AxesSubplot at 0x7faf822fc4c0>"
      ]
     },
     "execution_count": 58,
     "metadata": {},
     "output_type": "execute_result"
    },
    {
     "data": {
      "image/png": "[encoded data removed]",
      "text/plain": [
       "<Figure size 432x288 with 1 Axes>"
      ]
     },
     "metadata": {
      "needs_background": "light"
     },
     "output_type": "display_data"
    }
   ],
   "source": [
    "sns.distplot(b)"
   ]
  },
  {
   "cell_type": "markdown",
   "metadata": {
    "id": "yw2uikZzqbuf"
   },
   "source": [
    "#### Gamma"
   ]
  },
  {
   "cell_type": "code",
   "execution_count": 59,
   "metadata": {
    "colab": {
     "base_uri": "https://localhost:8080/",
     "height": 0
    },
    "id": "-jbdFE3GqZyi",
    "outputId": "4c4423b3-3144-4c1e-b1c9-99c1be434393"
   },
   "outputs": [
    {
     "name": "stdout",
     "output_type": "stream",
     "text": [
      "Average:  23.971670108745705\n",
      "SD:  6.963238388076983\n"
     ]
    }
   ],
   "source": [
    "g = np.random.gamma(12, 2, 10000)\n",
    "sample_ave = sum(g)/10000\n",
    "print(\"Average: \", sample_ave)\n",
    "sample_sd = np.std(g)\n",
    "print(\"SD: \", sample_sd)"
   ]
  },
  {
   "cell_type": "code",
   "execution_count": 60,
   "metadata": {
    "colab": {
     "base_uri": "https://localhost:8080/",
     "height": 0
    },
    "id": "ZzjdfZ0IqgG1",
    "outputId": "59c31210-d449-400d-fb24-abac13c732ca"
   },
   "outputs": [
    {
     "name": "stdout",
     "output_type": "stream",
     "text": [
      "Average:  24.01543961819074\n",
      "SD:  6.946670993530743\n"
     ]
    }
   ],
   "source": [
    "g = np.random.gamma(12, 2, 100000)\n",
    "sample_ave = sum(g)/100000\n",
    "print(\"Average: \", sample_ave)\n",
    "sample_sd = np.std(g)\n",
    "print(\"SD: \", sample_sd)"
   ]
  },
  {
   "cell_type": "code",
   "execution_count": 61,
   "metadata": {
    "colab": {
     "base_uri": "https://localhost:8080/",
     "height": 0
    },
    "id": "8mQ4eUKzqi1S",
    "outputId": "37113262-20d6-4cb8-b4cf-1149edca351d"
   },
   "outputs": [
    {
     "name": "stdout",
     "output_type": "stream",
     "text": [
      "Average:  24.003297394384287\n",
      "SD:  6.924285906173426\n"
     ]
    }
   ],
   "source": [
    "g = np.random.gamma(12, 2, 1000000)\n",
    "sample_ave = sum(g)/1000000\n",
    "print(\"Average: \", sample_ave)\n",
    "sample_sd = np.std(g)\n",
    "print(\"SD: \", sample_sd)"
   ]
  },
  {
   "cell_type": "code",
   "execution_count": 62,
   "metadata": {
    "colab": {
     "base_uri": "https://localhost:8080/",
     "height": 0
    },
    "id": "UUVX0akDqlLW",
    "outputId": "66cfd41a-fb45-498e-96cc-9ef1f157c5a0"
   },
   "outputs": [
    {
     "name": "stdout",
     "output_type": "stream",
     "text": [
      "N              Average       SD\n",
      "-----------  ---------  -------\n",
      "n = 10000      23.9716  6.96324\n",
      "n = 100000     24.0154  6.94667\n",
      "n = 1000000    24.0033  6.92428\n"
     ]
    }
   ],
   "source": [
    "data = [[\"n = 10000\", 23.9716, 6.963238], \n",
    " [\"n = 100000\", 24.0154, 6.94667], \n",
    " [\"n = 1000000\", 24.00329, 6.92428]]\n",
    "col_names = [\"N\", \"Average\", \"SD\"]\n",
    "print(tabulate(data, headers=col_names))"
   ]
  },
  {
   "cell_type": "code",
   "execution_count": 63,
   "metadata": {
    "colab": {
     "base_uri": "https://localhost:8080/",
     "height": 339
    },
    "id": "fG9JDELyqz1P",
    "outputId": "d3654fdb-0c53-4d0c-be74-a9b91ac053c2"
   },
   "outputs": [
    {
     "name": "stderr",
     "output_type": "stream",
     "text": [
      "/usr/local/lib/python3.8/dist-packages/seaborn/distributions.py:2619: FutureWarning: `distplot` is a deprecated function and will be removed in a future version. Please adapt your code to use either `displot` (a figure-level function with similar flexibility) or `histplot` (an axes-level function for histograms).\n",
      "  warnings.warn(msg, FutureWarning)\n"
     ]
    },
    {
     "data": {
      "text/plain": [
       "<matplotlib.axes._subplots.AxesSubplot at 0x7faf7c662100>"
      ]
     },
     "execution_count": 63,
     "metadata": {},
     "output_type": "execute_result"
    },
    {
     "data": {
      "image/png": "[encoded data removed]",
      "text/plain": [
       "<Figure size 432x288 with 1 Axes>"
      ]
     },
     "metadata": {
      "needs_background": "light"
     },
     "output_type": "display_data"
    }
   ],
   "source": [
    "sns.distplot(g)"
   ]
  },
  {
   "cell_type": "markdown",
   "metadata": {
    "id": "IkL9eKsoq6pT"
   },
   "source": [
    "#### Inverse Gamma"
   ]
  },
  {
   "cell_type": "code",
   "execution_count": 64,
   "metadata": {
    "colab": {
     "base_uri": "https://localhost:8080/",
     "height": 0
    },
    "id": "eUUc-Grxq-Dk",
    "outputId": "38ff466f-8b14-479e-f76b-152b0d39fc02"
   },
   "outputs": [
    {
     "name": "stdout",
     "output_type": "stream",
     "text": [
      "Average:  2.091043919165766\n",
      "SD:  0.028648763862927883\n"
     ]
    }
   ],
   "source": [
    "r = invgamma.rvs(12, 2, size=10000)\n",
    "sample_ave = sum(r)/10000\n",
    "print(\"Average: \", sample_ave)\n",
    "sample_sd = np.std(r)\n",
    "print(\"SD: \", sample_sd)"
   ]
  },
  {
   "cell_type": "code",
   "execution_count": 65,
   "metadata": {
    "colab": {
     "base_uri": "https://localhost:8080/",
     "height": 0
    },
    "id": "xEz2Fx2YrBrx",
    "outputId": "46f33f4d-2c87-4bc4-9b03-3110bdd9e30f"
   },
   "outputs": [
    {
     "name": "stdout",
     "output_type": "stream",
     "text": [
      "Average:  2.091068005255602\n",
      "SD:  0.02869418651361399\n"
     ]
    }
   ],
   "source": [
    "r = invgamma.rvs(12, 2, size=100000)\n",
    "sample_ave = sum(r)/100000\n",
    "print(\"Average: \", sample_ave)\n",
    "sample_sd = np.std(r)\n",
    "print(\"SD: \", sample_sd)"
   ]
  },
  {
   "cell_type": "code",
   "execution_count": 66,
   "metadata": {
    "colab": {
     "base_uri": "https://localhost:8080/",
     "height": 0
    },
    "id": "kAs8iSO5rDmm",
    "outputId": "9bb82ff8-402a-4111-e33c-316b257cb072"
   },
   "outputs": [
    {
     "name": "stdout",
     "output_type": "stream",
     "text": [
      "Average:  2.090869854851996\n",
      "SD:  0.028759506175935572\n"
     ]
    }
   ],
   "source": [
    "r = invgamma.rvs(12, 2, size=1000000)\n",
    "sample_ave = sum(r)/1000000\n",
    "print(\"Average: \", sample_ave)\n",
    "sample_sd = np.std(r)\n",
    "print(\"SD: \", sample_sd)"
   ]
  },
  {
   "cell_type": "code",
   "execution_count": 67,
   "metadata": {
    "colab": {
     "base_uri": "https://localhost:8080/",
     "height": 0
    },
    "id": "_wtytPTLrnyK",
    "outputId": "9b9dfb6f-06f8-4216-f2ac-479fb87c39c3"
   },
   "outputs": [
    {
     "name": "stdout",
     "output_type": "stream",
     "text": [
      "N              Average        SD\n",
      "-----------  ---------  --------\n",
      "n = 10000      2.09104  0.0286\n",
      "n = 100000     2.09107  0.028694\n",
      "n = 1000000    2.0908   0.028759\n"
     ]
    }
   ],
   "source": [
    "from tabulate import tabulate\n",
    "data = [[\"n = 10000\", 2.09104, 0.0286], \n",
    " [\"n = 100000\", 2.091068, 0.028694], \n",
    " [\"n = 1000000\", 2.0908, 0.028759]]\n",
    "col_names = [\"N\", \"Average\", \"SD\"]\n",
    "print(tabulate(data, headers=col_names))"
   ]
  },
  {
   "cell_type": "code",
   "execution_count": 68,
   "metadata": {
    "colab": {
     "base_uri": "https://localhost:8080/",
     "height": 339
    },
    "id": "MR43Mzuhr2iI",
    "outputId": "f1c23a85-a7aa-46e3-ff0f-cd3d1c46c506"
   },
   "outputs": [
    {
     "name": "stderr",
     "output_type": "stream",
     "text": [
      "/usr/local/lib/python3.8/dist-packages/seaborn/distributions.py:2619: FutureWarning: `distplot` is a deprecated function and will be removed in a future version. Please adapt your code to use either `displot` (a figure-level function with similar flexibility) or `histplot` (an axes-level function for histograms).\n",
      "  warnings.warn(msg, FutureWarning)\n"
     ]
    },
    {
     "data": {
      "text/plain": [
       "<matplotlib.axes._subplots.AxesSubplot at 0x7faf7c54e0a0>"
      ]
     },
     "execution_count": 68,
     "metadata": {},
     "output_type": "execute_result"
    },
    {
     "data": {
      "image/png": "[encoded data removed]",
      "text/plain": [
       "<Figure size 432x288 with 1 Axes>"
      ]
     },
     "metadata": {
      "needs_background": "light"
     },
     "output_type": "display_data"
    }
   ],
   "source": [
    "sns.distplot(r)"
   ]
  },
  {
   "cell_type": "markdown",
   "metadata": {
    "id": "vPrPxtc1r7KO"
   },
   "source": [
    "#### Chisquare on 2df"
   ]
  },
  {
   "cell_type": "code",
   "execution_count": 69,
   "metadata": {
    "colab": {
     "base_uri": "https://localhost:8080/",
     "height": 0
    },
    "id": "RtwFUWEAr593",
    "outputId": "41193ac8-69cb-47e9-e8c8-05aeb61c2e96"
   },
   "outputs": [
    {
     "name": "stdout",
     "output_type": "stream",
     "text": [
      "Average:  1.9850131608835486\n",
      "SD:  2.00689022553403\n"
     ]
    }
   ],
   "source": [
    "r = np.random.chisquare(2,10000)\n",
    "sample_ave = sum(r)/10000\n",
    "print(\"Average: \", sample_ave)\n",
    "sample_sd = np.std(r)\n",
    "print(\"SD: \", sample_sd)"
   ]
  },
  {
   "cell_type": "code",
   "execution_count": 70,
   "metadata": {
    "colab": {
     "base_uri": "https://localhost:8080/",
     "height": 0
    },
    "id": "Zx_MI71FzAFk",
    "outputId": "2165589e-1778-4c3c-924a-add405350854"
   },
   "outputs": [
    {
     "name": "stdout",
     "output_type": "stream",
     "text": [
      "Average:  1.9839775495087792\n",
      "SD:  1.9900274364244463\n"
     ]
    }
   ],
   "source": [
    "r = np.random.chisquare(2,100000)\n",
    "sample_ave = sum(r)/100000\n",
    "print(\"Average: \", sample_ave)\n",
    "sample_sd = np.std(r)\n",
    "print(\"SD: \", sample_sd)"
   ]
  },
  {
   "cell_type": "code",
   "execution_count": 71,
   "metadata": {
    "colab": {
     "base_uri": "https://localhost:8080/",
     "height": 0
    },
    "id": "h089VAgvzB7L",
    "outputId": "d9439783-8a86-4c4a-e13a-8eb832422f5f"
   },
   "outputs": [
    {
     "name": "stdout",
     "output_type": "stream",
     "text": [
      "Average:  1.9983571873084802\n",
      "SD:  2.0008784845929513\n"
     ]
    }
   ],
   "source": [
    "r = np.random.chisquare(2,1000000)\n",
    "sample_ave = sum(r)/1000000\n",
    "print(\"Average: \", sample_ave)\n",
    "sample_sd = np.std(r)\n",
    "print(\"SD: \", sample_sd)"
   ]
  },
  {
   "cell_type": "code",
   "execution_count": 72,
   "metadata": {
    "colab": {
     "base_uri": "https://localhost:8080/",
     "height": 0
    },
    "id": "a6Cnt9rhzEDh",
    "outputId": "935f5e89-5043-4484-f4e0-4ce309672ec3"
   },
   "outputs": [
    {
     "name": "stdout",
     "output_type": "stream",
     "text": [
      "N              Average       SD\n",
      "-----------  ---------  -------\n",
      "n = 10000      1.98501  2.00689\n",
      "n = 100000     1.98398  1.99\n",
      "n = 1000000    1.99835  2.00088\n"
     ]
    }
   ],
   "source": [
    "data = [[\"n = 10000\", 1.98501, 2.00689], \n",
    " [\"n = 100000\", 1.983977, 1.9900], \n",
    " [\"n = 1000000\", 1.99835, 2.000878]]\n",
    "col_names = [\"N\", \"Average\", \"SD\"]\n",
    "print(tabulate(data, headers=col_names))"
   ]
  },
  {
   "cell_type": "code",
   "execution_count": 73,
   "metadata": {
    "colab": {
     "base_uri": "https://localhost:8080/",
     "height": 339
    },
    "id": "VlQdG3ubzPy0",
    "outputId": "d8a9e6cf-6b44-452e-8b4a-427de36e3c2f"
   },
   "outputs": [
    {
     "name": "stderr",
     "output_type": "stream",
     "text": [
      "/usr/local/lib/python3.8/dist-packages/seaborn/distributions.py:2619: FutureWarning: `distplot` is a deprecated function and will be removed in a future version. Please adapt your code to use either `displot` (a figure-level function with similar flexibility) or `histplot` (an axes-level function for histograms).\n",
      "  warnings.warn(msg, FutureWarning)\n"
     ]
    },
    {
     "data": {
      "text/plain": [
       "<matplotlib.axes._subplots.AxesSubplot at 0x7faf7c43aa60>"
      ]
     },
     "execution_count": 73,
     "metadata": {},
     "output_type": "execute_result"
    },
    {
     "data": {
      "image/png": "[encoded data removed]",
      "text/plain": [
       "<Figure size 432x288 with 1 Axes>"
      ]
     },
     "metadata": {
      "needs_background": "light"
     },
     "output_type": "display_data"
    }
   ],
   "source": [
    "sns.distplot(r)"
   ]
  },
  {
   "cell_type": "markdown",
   "metadata": {
    "id": "uKuJAICgzSrp"
   },
   "source": [
    "#### InverseChi-square"
   ]
  },
  {
   "cell_type": "code",
   "execution_count": 74,
   "metadata": {
    "colab": {
     "base_uri": "https://localhost:8080/",
     "height": 0
    },
    "id": "0mRc8IyezVkY",
    "outputId": "7d0eb8af-7797-4e8e-b85c-19ec2be84f3a"
   },
   "outputs": [
    {
     "name": "stdout",
     "output_type": "stream",
     "text": [
      "Average:  5.401400341047481\n",
      "SD:  0.706737376441605\n"
     ]
    }
   ],
   "source": [
    "r = chi.rvs(12, 2, size=10000)\n",
    "sample_ave = sum(r)/10000\n",
    "print(\"Average: \", sample_ave)\n",
    "sample_sd = np.std(r)\n",
    "print(\"SD: \", sample_sd)"
   ]
  },
  {
   "cell_type": "code",
   "execution_count": 75,
   "metadata": {
    "colab": {
     "base_uri": "https://localhost:8080/",
     "height": 0
    },
    "id": "ELmRohAJzlEc",
    "outputId": "a77e98f4-158f-44d8-e0d9-65267a2095b4"
   },
   "outputs": [
    {
     "name": "stdout",
     "output_type": "stream",
     "text": [
      "Average:  5.391422654182529\n",
      "SD:  0.6997176159085143\n"
     ]
    }
   ],
   "source": [
    "r = chi.rvs(12, 2, size=100000)\n",
    "sample_ave = sum(r)/100000\n",
    "print(\"Average: \", sample_ave)\n",
    "sample_sd = np.std(r)\n",
    "print(\"SD: \", sample_sd)"
   ]
  },
  {
   "cell_type": "code",
   "execution_count": 76,
   "metadata": {
    "colab": {
     "base_uri": "https://localhost:8080/",
     "height": 0
    },
    "id": "-uoZu_nlzmzP",
    "outputId": "00139914-0d04-4bac-a7af-1c905cc41923"
   },
   "outputs": [
    {
     "name": "stdout",
     "output_type": "stream",
     "text": [
      "Average:  5.391947927960698\n",
      "SD:  0.6986991579538122\n"
     ]
    }
   ],
   "source": [
    "r = chi.rvs(12, 2, size=1000000)\n",
    "sample_ave = sum(r)/1000000\n",
    "print(\"Average: \", sample_ave)\n",
    "sample_sd = np.std(r)\n",
    "print(\"SD: \", sample_sd)"
   ]
  },
  {
   "cell_type": "code",
   "execution_count": 77,
   "metadata": {
    "colab": {
     "base_uri": "https://localhost:8080/",
     "height": 0
    },
    "id": "TkCY8uYzzpmE",
    "outputId": "e1f2cbbe-4bc9-435f-f9d8-a4bed03ed489"
   },
   "outputs": [
    {
     "name": "stdout",
     "output_type": "stream",
     "text": [
      "N              Average       SD\n",
      "-----------  ---------  -------\n",
      "n = 10000      5.4014   0.70673\n",
      "n = 100000     5.39142  0.69971\n",
      "n = 1000000    5.39194  0.69869\n"
     ]
    }
   ],
   "source": [
    "data = [[\"n = 10000\", 5.40140, 0.70673], \n",
    " [\"n = 100000\", 5.39142, 0.69971], \n",
    " [\"n = 1000000\", 5.39194, 0.69869]]\n",
    "col_names = [\"N\", \"Average\", \"SD\"]\n",
    "print(tabulate(data, headers=col_names))"
   ]
  },
  {
   "cell_type": "code",
   "execution_count": 78,
   "metadata": {
    "colab": {
     "base_uri": "https://localhost:8080/",
     "height": 339
    },
    "id": "B6-YTF5Iz26D",
    "outputId": "db46ca8f-17e1-43f7-a9bd-254825d12564"
   },
   "outputs": [
    {
     "name": "stderr",
     "output_type": "stream",
     "text": [
      "/usr/local/lib/python3.8/dist-packages/seaborn/distributions.py:2619: FutureWarning: `distplot` is a deprecated function and will be removed in a future version. Please adapt your code to use either `displot` (a figure-level function with similar flexibility) or `histplot` (an axes-level function for histograms).\n",
      "  warnings.warn(msg, FutureWarning)\n"
     ]
    },
    {
     "data": {
      "text/plain": [
       "<matplotlib.axes._subplots.AxesSubplot at 0x7faf7c382520>"
      ]
     },
     "execution_count": 78,
     "metadata": {},
     "output_type": "execute_result"
    },
    {
     "data": {
      "image/png": "[encoded data removed]",
      "text/plain": [
       "<Figure size 432x288 with 1 Axes>"
      ]
     },
     "metadata": {
      "needs_background": "light"
     },
     "output_type": "display_data"
    }
   ],
   "source": [
    "sns.distplot(r)"
   ]
  },
  {
   "cell_type": "markdown",
   "metadata": {
    "id": "hJleSiwe0a7D"
   },
   "source": [
    "## Question 3\n",
    "#### a and b\n",
    "#### 3a. Draw a sample of size 10000 from the trivariate normal distribution with mean (0,0,0) and variance-covariance matrxi: $$\\begin{bmatrix} 1 & 4.5 & 9.0 \\\\ 4.5 & 25 & 49 \\\\ 9 & 49 & 100 \\end{bmatrix}$$\n"
   ]
  },
  {
   "cell_type": "code",
   "execution_count": 3,
   "metadata": {
    "id": "uFXE0xjh0Zjh"
   },
   "outputs": [],
   "source": [
    "mean = [0, 0, 0]\n",
    "cov = [[1, 4.5, 9], [4.5, 25, 49], [9, 49, 100]]"
   ]
  },
  {
   "cell_type": "code",
   "execution_count": 82,
   "metadata": {
    "id": "I1916zas0lcN"
   },
   "outputs": [],
   "source": [
    "t = np.random.multivariate_normal(mean, cov, 10000)"
   ]
  },
  {
   "cell_type": "code",
   "execution_count": 83,
   "metadata": {
    "colab": {
     "base_uri": "https://localhost:8080/",
     "height": 339
    },
    "id": "xIsBxA8I0nUO",
    "outputId": "aebfc6e0-7b81-47c6-d919-335ca26c041b"
   },
   "outputs": [
    {
     "name": "stderr",
     "output_type": "stream",
     "text": [
      "/usr/local/lib/python3.8/dist-packages/seaborn/distributions.py:2619: FutureWarning: `distplot` is a deprecated function and will be removed in a future version. Please adapt your code to use either `displot` (a figure-level function with similar flexibility) or `histplot` (an axes-level function for histograms).\n",
      "  warnings.warn(msg, FutureWarning)\n"
     ]
    },
    {
     "data": {
      "text/plain": [
       "<matplotlib.axes._subplots.AxesSubplot at 0x7faf7c2984c0>"
      ]
     },
     "execution_count": 83,
     "metadata": {},
     "output_type": "execute_result"
    },
    {
     "data": {
      "image/png": "[encoded data removed]",
      "text/plain": [
       "<Figure size 432x288 with 1 Axes>"
      ]
     },
     "metadata": {
      "needs_background": "light"
     },
     "output_type": "display_data"
    }
   ],
   "source": [
    "sns.distplot(t)"
   ]
  },
  {
   "cell_type": "code",
   "execution_count": 84,
   "metadata": {
    "colab": {
     "base_uri": "https://localhost:8080/",
     "height": 0
    },
    "id": "UprEU2tQ0w5Y",
    "outputId": "81cb0c5c-0d1f-4a46-9a2c-4633105c83fd"
   },
   "outputs": [
    {
     "name": "stdout",
     "output_type": "stream",
     "text": [
      "Average:  [0.01310477 0.0662522  0.13813914]\n",
      "SD:  6.499224294697967\n"
     ]
    }
   ],
   "source": [
    "sample_ave = sum(t)/10000\n",
    "print(\"Average: \", sample_ave)\n",
    "sample_sd = np.std(t)\n",
    "print(\"SD: \", sample_sd)"
   ]
  },
  {
   "cell_type": "markdown",
   "metadata": {
    "id": "TRt-YZkO9zXP"
   },
   "source": [
    "#### 3c.  Draw a sample of size 10,000 from the conditional distribution p($X_1$|$X_2,\\; X_3$ ), take $X_2 = X_3 = 1$. Compute the sample mean and sample SD and compare these numbers to the true values. Draw a histogram of the simulated values, along with the true conditional distribution. "
   ]
  },
  {
   "cell_type": "markdown",
   "metadata": {
    "id": "M27yv5Rm93-d"
   },
   "source": [
    "The covaraince martix can be written as :  \n",
    "$\\begin{bmatrix}\n",
    "\\sigma^2_{X_1} & \\rho_{X_1,X_2}\\sigma_1 \\sigma_2 & \\rho_{X_1,X_3}\\sigma_1 \\sigma_3 \\\\ \n",
    "\\rho_{X_1,X_2}\\sigma_1 \\sigma_2  & \\sigma^2_{X_2} & \\rho_{X_2,X_3}\\sigma_2 \\sigma_3 \\\\ \n",
    "\\rho_{X_1,X_3}\\sigma_1 \\sigma_3 & \\rho_{X_2,X3}\\sigma_2 \\sigma_3 & \\sigma^2_{X_3} \n",
    "\\end{bmatrix}$\n",
    "\n",
    "Then\n",
    "\n",
    "E[$X_1$|$X_2 =x_2, X_3 = x_3$] = $\\mu_1$ + $\\frac{\\sigma_1(\\sigma_3(x_2 - \\mu_2)(\\rho_{23}\\rho_{13} - \\rho_{12}) - \\sigma_2(x_3 - \\mu_3)(\\rho_{13} - \\rho_{23}\\rho_{12})}{(\\rho_{23}^2 - 1)\\sigma_2 \\sigma_3}$\n",
    "\n",
    "Var($X_1$|$X_2 =x_2, X_3 = x_3$) = $\\frac{\\sigma_1^2(\\rho_{23}^2 - 2\\rho_{23}\\rho_{13}\\rho_{12} + \\rho_{13}^2 + \\rho_{12}^2 - 1)}{\\rho_{23}^2 -1}$  \n",
    "Hence, E[$X_1$|$X_2 =1, X_3 = 1$] = 0.1363636363636362  \n",
    "Var($X_1$|$X_2 = 1, X_3 = 1$) = 0.18181818181818385 \n",
    "\n",
    "So SD of it = 0.4263"
   ]
  },
  {
   "cell_type": "code",
   "execution_count": 42,
   "metadata": {
    "colab": {
     "base_uri": "https://localhost:8080/",
     "height": 339
    },
    "id": "e8_eJ-E2WJTu",
    "outputId": "d7993148-04a2-4689-efdb-e63e34234341"
   },
   "outputs": [
    {
     "name": "stderr",
     "output_type": "stream",
     "text": [
      "/usr/local/lib/python3.8/dist-packages/seaborn/distributions.py:2619: FutureWarning: `distplot` is a deprecated function and will be removed in a future version. Please adapt your code to use either `displot` (a figure-level function with similar flexibility) or `histplot` (an axes-level function for histograms).\n",
      "  warnings.warn(msg, FutureWarning)\n"
     ]
    },
    {
     "data": {
      "text/plain": [
       "<matplotlib.axes._subplots.AxesSubplot at 0x7f0ea683e0a0>"
      ]
     },
     "execution_count": 42,
     "metadata": {},
     "output_type": "execute_result"
    },
    {
     "data": {
      "image/png": "[encoded data removed]",
      "text/plain": [
       "<Figure size 432x288 with 1 Axes>"
      ]
     },
     "metadata": {
      "needs_background": "light"
     },
     "output_type": "display_data"
    }
   ],
   "source": [
    "t2 = np.random.normal(0.1364, np.sqrt(0.1818), 10000)\n",
    "sns.distplot(t2)"
   ]
  },
  {
   "cell_type": "markdown",
   "metadata": {
    "id": "139pey4Q_Pah"
   },
   "source": [
    "#### 3d. Use the sample from trivariate joint distribution to obtain the conditional mean and SD of $X_1$ given $X_2 = 1, X_3 = 1$. i.e Look at all the tripes whose second and third components are within an $\\epsilon$ of .5, .05, .005. Then do a compare."
   ]
  },
  {
   "cell_type": "code",
   "execution_count": 81,
   "metadata": {
    "id": "i0TVvBFGCgAN"
   },
   "outputs": [],
   "source": [
    "pool_1 = np.array([])\n",
    "pool_2 = np.array([])\n",
    "pool_3 = np.array([])\n",
    "while(len(pool_3)<int(400)):\n",
    "    X = np.random.multivariate_normal(mean, cov, size = 100000, check_valid='warn')\n",
    "\n",
    "    afterX2_1 = X[np.abs(X[:,1]-1)<.5]\n",
    "    afterX3_1 = afterX2_1[np.abs(afterX2_1[:,2]-1)<.5]\n",
    "    X1_1 = afterX3_1[:,0]\n",
    "    pool_1 = np.append(pool_1, X1_1)\n",
    "    pool_1 = pool_1.flatten()\n",
    "\n",
    "    afterX2_2 = X[np.abs(X[:,1]-1)<.05]\n",
    "    afterX3_2 = afterX2_2[np.abs(afterX2_2[:,2]-1)<.05]\n",
    "    X1_2 = afterX3_2[:,0]\n",
    "    pool_2 = np.append(pool_2, X1_2)\n",
    "    pool_2 = pool_2.flatten()\n",
    "\n",
    "    afterX2_3 = X[np.abs(X[:,1]-1)<.005]\n",
    "    afterX3_3 = afterX2_3[np.abs(afterX2_3[:,2]-1)<.005]\n",
    "    X1_3 = afterX3_3[:,0]\n",
    "    pool_3 = np.append(pool_3, X1_3)\n",
    "    pool_3 = pool_3.flatten()"
   ]
  },
  {
   "cell_type": "code",
   "execution_count": 82,
   "metadata": {
    "colab": {
     "base_uri": "https://localhost:8080/"
    },
    "id": "zgLFkipge2eT",
    "outputId": "5c1b67c7-d165-41d6-8fed-2e367a87b7f3"
   },
   "outputs": [
    {
     "data": {
      "text/plain": [
       "4200"
      ]
     },
     "execution_count": 82,
     "metadata": {},
     "output_type": "execute_result"
    }
   ],
   "source": [
    "pool_4 = np.append(pool_4, pool_3)\n",
    "len(pool_4)"
   ]
  },
  {
   "cell_type": "code",
   "execution_count": 83,
   "metadata": {
    "id": "uRiYZIXdkueF"
   },
   "outputs": [],
   "source": [
    "pool_5 = np.append(pool_5, pool_2)"
   ]
  },
  {
   "cell_type": "code",
   "execution_count": 84,
   "metadata": {
    "id": "Q1smFhS8gCCT"
   },
   "outputs": [],
   "source": [
    "pool_3 = pool_4\n",
    "pool_2 = pool_5"
   ]
  },
  {
   "cell_type": "code",
   "execution_count": 101,
   "metadata": {
    "id": "a7BuHzUHcE3Y"
   },
   "outputs": [],
   "source": [
    "l_1_1 = np.random.choice(pool_1,1000,replace = True)\n",
    "l_2_1 = np.random.choice(pool_2,1000,replace = True)\n",
    "l_3_1 = np.random.choice(pool_3,1000,replace = True)\n",
    "\n",
    "l_1_2 = np.random.choice(pool_1,10000,replace = True)\n",
    "l_2_2 = np.random.choice(pool_2,10000,replace = True)\n",
    "l_3_2 = np.random.choice(pool_3,10000,replace = True)\n",
    "\n",
    "l_1_3 = np.random.choice(pool_1,100000,replace = True)\n",
    "l_2_3 = np.random.choice(pool_2,100000,replace = True)\n",
    "l_3_3 = np.random.choice(pool_3,100000,replace = True)"
   ]
  },
  {
   "cell_type": "code",
   "execution_count": 102,
   "metadata": {
    "id": "NrqipBZgdWTT"
   },
   "outputs": [],
   "source": [
    "SDTable = pd.DataFrame({\"0.5\": [np.std(l_1_1), np.std(l_2_1), np.std(l_3_1)], \n",
    "                       \"0.05\": [np.std(l_1_2), np.std(l_2_2), np.std(l_3_2)],\n",
    "                       \"0.005\": [np.std(l_1_3), np.std(l_2_3), np.std(l_3_3)]})\n",
    "MEANTable = pd.DataFrame({\"0.5\": [np.mean(l_1_1), np.mean(l_2_1), np.mean(l_3_1)], \n",
    "                       \"0.05\": [np.mean(l_1_2), np.mean(l_2_2), np.mean(l_3_2)],\n",
    "                       \"0.005\": [np.mean(l_1_3), np.mean(l_2_3), np.mean(l_3_3)]})\n",
    "SDTable.index = pd.Series([\"1e3\",\"1e4\", \"1e5\"])\n",
    "MEANTable.index = pd.Series([\"1e3\",\"1e4\", \"1e5\"])"
   ]
  },
  {
   "cell_type": "code",
   "execution_count": 103,
   "metadata": {
    "colab": {
     "base_uri": "https://localhost:8080/",
     "height": 143
    },
    "id": "zKuod_xNeO1N",
    "outputId": "dc4082be-4d12-4968-b545-a6ce7fca71a4"
   },
   "outputs": [
    {
     "data": {
      "text/html": [
       "\n",
       "  <div id=\"df-a1bcbe21-f654-4917-a459-82bb8a2e9471\">\n",
       "    <div class=\"colab-df-container\">\n",
       "      <div>\n",
       "<style scoped>\n",
       "    .dataframe tbody tr th:only-of-type {\n",
       "        vertical-align: middle;\n",
       "    }\n",
       "\n",
       "    .dataframe tbody tr th {\n",
       "        vertical-align: top;\n",
       "    }\n",
       "\n",
       "    .dataframe thead th {\n",
       "        text-align: right;\n",
       "    }\n",
       "</style>\n",
       "<table border=\"1\" class=\"dataframe\">\n",
       "  <thead>\n",
       "    <tr style=\"text-align: right;\">\n",
       "      <th></th>\n",
       "      <th>0.5</th>\n",
       "      <th>0.05</th>\n",
       "      <th>0.005</th>\n",
       "    </tr>\n",
       "  </thead>\n",
       "  <tbody>\n",
       "    <tr>\n",
       "      <th>1e3</th>\n",
       "      <td>0.433921</td>\n",
       "      <td>0.426558</td>\n",
       "      <td>0.428093</td>\n",
       "    </tr>\n",
       "    <tr>\n",
       "      <th>1e4</th>\n",
       "      <td>0.420368</td>\n",
       "      <td>0.428127</td>\n",
       "      <td>0.427038</td>\n",
       "    </tr>\n",
       "    <tr>\n",
       "      <th>1e5</th>\n",
       "      <td>0.453042</td>\n",
       "      <td>0.425051</td>\n",
       "      <td>0.424429</td>\n",
       "    </tr>\n",
       "  </tbody>\n",
       "</table>\n",
       "</div>\n",
       "      <button class=\"colab-df-convert\" onclick=\"convertToInteractive('df-a1bcbe21-f654-4917-a459-82bb8a2e9471')\"\n",
       "              title=\"Convert this dataframe to an interactive table.\"\n",
       "              style=\"display:none;\">\n",
       "        \n",
       "  <svg xmlns=\"http://www.w3.org/2000/svg\" height=\"24px\"viewBox=\"0 0 24 24\"\n",
       "       width=\"24px\">\n",
       "    <path d=\"M0 0h24v24H0V0z\" fill=\"none\"/>\n",
       "    <path d=\"M18.56 5.44l.94 2.06.94-2.06 2.06-.94-2.06-.94-.94-2.06-.94 2.06-2.06.94zm-11 1L8.5 8.5l.94-2.06 2.06-.94-2.06-.94L8.5 2.5l-.94 2.06-2.06.94zm10 10l.94 2.06.94-2.06 2.06-.94-2.06-.94-.94-2.06-.94 2.06-2.06.94z\"/><path d=\"M17.41 7.96l-1.37-1.37c-.4-.4-.92-.59-1.43-.59-.52 0-1.04.2-1.43.59L10.3 9.45l-7.72 7.72c-.78.78-.78 2.05 0 2.83L4 21.41c.39.39.9.59 1.41.59.51 0 1.02-.2 1.41-.59l7.78-7.78 2.81-2.81c.8-.78.8-2.07 0-2.86zM5.41 20L4 18.59l7.72-7.72 1.47 1.35L5.41 20z\"/>\n",
       "  </svg>\n",
       "      </button>\n",
       "      \n",
       "  <style>\n",
       "    .colab-df-container {\n",
       "      display:flex;\n",
       "      flex-wrap:wrap;\n",
       "      gap: 12px;\n",
       "    }\n",
       "\n",
       "    .colab-df-convert {\n",
       "      background-color: #E8F0FE;\n",
       "      border: none;\n",
       "      border-radius: 50%;\n",
       "      cursor: pointer;\n",
       "      display: none;\n",
       "      fill: #1967D2;\n",
       "      height: 32px;\n",
       "      padding: 0 0 0 0;\n",
       "      width: 32px;\n",
       "    }\n",
       "\n",
       "    .colab-df-convert:hover {\n",
       "      background-color: #E2EBFA;\n",
       "      box-shadow: 0px 1px 2px rgba(60, 64, 67, 0.3), 0px 1px 3px 1px rgba(60, 64, 67, 0.15);\n",
       "      fill: #174EA6;\n",
       "    }\n",
       "\n",
       "    [theme=dark] .colab-df-convert {\n",
       "      background-color: #3B4455;\n",
       "      fill: #D2E3FC;\n",
       "    }\n",
       "\n",
       "    [theme=dark] .colab-df-convert:hover {\n",
       "      background-color: #434B5C;\n",
       "      box-shadow: 0px 1px 3px 1px rgba(0, 0, 0, 0.15);\n",
       "      filter: drop-shadow(0px 1px 2px rgba(0, 0, 0, 0.3));\n",
       "      fill: #FFFFFF;\n",
       "    }\n",
       "  </style>\n",
       "\n",
       "      <script>\n",
       "        const buttonEl =\n",
       "          document.querySelector('#df-a1bcbe21-f654-4917-a459-82bb8a2e9471 button.colab-df-convert');\n",
       "        buttonEl.style.display =\n",
       "          google.colab.kernel.accessAllowed ? 'block' : 'none';\n",
       "\n",
       "        async function convertToInteractive(key) {\n",
       "          const element = document.querySelector('#df-a1bcbe21-f654-4917-a459-82bb8a2e9471');\n",
       "          const dataTable =\n",
       "            await google.colab.kernel.invokeFunction('convertToInteractive',\n",
       "                                                     [key], {});\n",
       "          if (!dataTable) return;\n",
       "\n",
       "          const docLinkHtml = 'Like what you see? Visit the ' +\n",
       "            '<a target=\"_blank\" href=https://colab.research.google.com/notebooks/data_table.ipynb>data table notebook</a>'\n",
       "            + ' to learn more about interactive tables.';\n",
       "          element.innerHTML = '';\n",
       "          dataTable['output_type'] = 'display_data';\n",
       "          await google.colab.output.renderOutput(dataTable, element);\n",
       "          const docLink = document.createElement('div');\n",
       "          docLink.innerHTML = docLinkHtml;\n",
       "          element.appendChild(docLink);\n",
       "        }\n",
       "      </script>\n",
       "    </div>\n",
       "  </div>\n",
       "  "
      ],
      "text/plain": [
       "          0.5      0.05     0.005\n",
       "1e3  0.433921  0.426558  0.428093\n",
       "1e4  0.420368  0.428127  0.427038\n",
       "1e5  0.453042  0.425051  0.424429"
      ]
     },
     "execution_count": 103,
     "metadata": {},
     "output_type": "execute_result"
    }
   ],
   "source": [
    "SDTable"
   ]
  },
  {
   "cell_type": "code",
   "execution_count": 104,
   "metadata": {
    "colab": {
     "base_uri": "https://localhost:8080/",
     "height": 143
    },
    "id": "UqRxKI_ieQag",
    "outputId": "5a2bb070-22e4-4dc1-c7ac-719016ed907c"
   },
   "outputs": [
    {
     "data": {
      "text/html": [
       "\n",
       "  <div id=\"df-17954c1e-d2b1-4f5f-9cf4-4f62ab23290e\">\n",
       "    <div class=\"colab-df-container\">\n",
       "      <div>\n",
       "<style scoped>\n",
       "    .dataframe tbody tr th:only-of-type {\n",
       "        vertical-align: middle;\n",
       "    }\n",
       "\n",
       "    .dataframe tbody tr th {\n",
       "        vertical-align: top;\n",
       "    }\n",
       "\n",
       "    .dataframe thead th {\n",
       "        text-align: right;\n",
       "    }\n",
       "</style>\n",
       "<table border=\"1\" class=\"dataframe\">\n",
       "  <thead>\n",
       "    <tr style=\"text-align: right;\">\n",
       "      <th></th>\n",
       "      <th>0.5</th>\n",
       "      <th>0.05</th>\n",
       "      <th>0.005</th>\n",
       "    </tr>\n",
       "  </thead>\n",
       "  <tbody>\n",
       "    <tr>\n",
       "      <th>1e3</th>\n",
       "      <td>0.137891</td>\n",
       "      <td>0.143691</td>\n",
       "      <td>0.134095</td>\n",
       "    </tr>\n",
       "    <tr>\n",
       "      <th>1e4</th>\n",
       "      <td>0.147307</td>\n",
       "      <td>0.140875</td>\n",
       "      <td>0.135876</td>\n",
       "    </tr>\n",
       "    <tr>\n",
       "      <th>1e5</th>\n",
       "      <td>0.143150</td>\n",
       "      <td>0.136056</td>\n",
       "      <td>0.137426</td>\n",
       "    </tr>\n",
       "  </tbody>\n",
       "</table>\n",
       "</div>\n",
       "      <button class=\"colab-df-convert\" onclick=\"convertToInteractive('df-17954c1e-d2b1-4f5f-9cf4-4f62ab23290e')\"\n",
       "              title=\"Convert this dataframe to an interactive table.\"\n",
       "              style=\"display:none;\">\n",
       "        \n",
       "  <svg xmlns=\"http://www.w3.org/2000/svg\" height=\"24px\"viewBox=\"0 0 24 24\"\n",
       "       width=\"24px\">\n",
       "    <path d=\"M0 0h24v24H0V0z\" fill=\"none\"/>\n",
       "    <path d=\"M18.56 5.44l.94 2.06.94-2.06 2.06-.94-2.06-.94-.94-2.06-.94 2.06-2.06.94zm-11 1L8.5 8.5l.94-2.06 2.06-.94-2.06-.94L8.5 2.5l-.94 2.06-2.06.94zm10 10l.94 2.06.94-2.06 2.06-.94-2.06-.94-.94-2.06-.94 2.06-2.06.94z\"/><path d=\"M17.41 7.96l-1.37-1.37c-.4-.4-.92-.59-1.43-.59-.52 0-1.04.2-1.43.59L10.3 9.45l-7.72 7.72c-.78.78-.78 2.05 0 2.83L4 21.41c.39.39.9.59 1.41.59.51 0 1.02-.2 1.41-.59l7.78-7.78 2.81-2.81c.8-.78.8-2.07 0-2.86zM5.41 20L4 18.59l7.72-7.72 1.47 1.35L5.41 20z\"/>\n",
       "  </svg>\n",
       "      </button>\n",
       "      \n",
       "  <style>\n",
       "    .colab-df-container {\n",
       "      display:flex;\n",
       "      flex-wrap:wrap;\n",
       "      gap: 12px;\n",
       "    }\n",
       "\n",
       "    .colab-df-convert {\n",
       "      background-color: #E8F0FE;\n",
       "      border: none;\n",
       "      border-radius: 50%;\n",
       "      cursor: pointer;\n",
       "      display: none;\n",
       "      fill: #1967D2;\n",
       "      height: 32px;\n",
       "      padding: 0 0 0 0;\n",
       "      width: 32px;\n",
       "    }\n",
       "\n",
       "    .colab-df-convert:hover {\n",
       "      background-color: #E2EBFA;\n",
       "      box-shadow: 0px 1px 2px rgba(60, 64, 67, 0.3), 0px 1px 3px 1px rgba(60, 64, 67, 0.15);\n",
       "      fill: #174EA6;\n",
       "    }\n",
       "\n",
       "    [theme=dark] .colab-df-convert {\n",
       "      background-color: #3B4455;\n",
       "      fill: #D2E3FC;\n",
       "    }\n",
       "\n",
       "    [theme=dark] .colab-df-convert:hover {\n",
       "      background-color: #434B5C;\n",
       "      box-shadow: 0px 1px 3px 1px rgba(0, 0, 0, 0.15);\n",
       "      filter: drop-shadow(0px 1px 2px rgba(0, 0, 0, 0.3));\n",
       "      fill: #FFFFFF;\n",
       "    }\n",
       "  </style>\n",
       "\n",
       "      <script>\n",
       "        const buttonEl =\n",
       "          document.querySelector('#df-17954c1e-d2b1-4f5f-9cf4-4f62ab23290e button.colab-df-convert');\n",
       "        buttonEl.style.display =\n",
       "          google.colab.kernel.accessAllowed ? 'block' : 'none';\n",
       "\n",
       "        async function convertToInteractive(key) {\n",
       "          const element = document.querySelector('#df-17954c1e-d2b1-4f5f-9cf4-4f62ab23290e');\n",
       "          const dataTable =\n",
       "            await google.colab.kernel.invokeFunction('convertToInteractive',\n",
       "                                                     [key], {});\n",
       "          if (!dataTable) return;\n",
       "\n",
       "          const docLinkHtml = 'Like what you see? Visit the ' +\n",
       "            '<a target=\"_blank\" href=https://colab.research.google.com/notebooks/data_table.ipynb>data table notebook</a>'\n",
       "            + ' to learn more about interactive tables.';\n",
       "          element.innerHTML = '';\n",
       "          dataTable['output_type'] = 'display_data';\n",
       "          await google.colab.output.renderOutput(dataTable, element);\n",
       "          const docLink = document.createElement('div');\n",
       "          docLink.innerHTML = docLinkHtml;\n",
       "          element.appendChild(docLink);\n",
       "        }\n",
       "      </script>\n",
       "    </div>\n",
       "  </div>\n",
       "  "
      ],
      "text/plain": [
       "          0.5      0.05     0.005\n",
       "1e3  0.137891  0.143691  0.134095\n",
       "1e4  0.147307  0.140875  0.135876\n",
       "1e5  0.143150  0.136056  0.137426"
      ]
     },
     "execution_count": 104,
     "metadata": {},
     "output_type": "execute_result"
    }
   ],
   "source": [
    "MEANTable"
   ]
  }
 ],
 "metadata": {
  "colab": {
   "provenance": []
  },
  "kernelspec": {
   "display_name": "Python 3 (ipykernel)",
   "language": "python",
   "name": "python3"
  },
  "language_info": {
   "codemirror_mode": {
    "name": "ipython",
    "version": 3
   },
   "file_extension": ".py",
   "mimetype": "text/x-python",
   "name": "python",
   "nbconvert_exporter": "python",
   "pygments_lexer": "ipython3",
   "version": "3.9.15"
  }
 },
 "nbformat": 4,
 "nbformat_minor": 1
}
