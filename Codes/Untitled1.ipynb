{
 "cells": [
  {
   "cell_type": "code",
   "execution_count": null,
   "id": "eb22e1ee",
   "metadata": {},
   "outputs": [],
   "source": [
    "import numpy as np\n",
    "import math\n",
    "from scipy.stats import norm\n",
    "from scipy.stats import beta\n",
    "from scipy.stats import fisher_exact\n",
    "import scipy.integrate as integrate\n",
    "import matplotlib as mpl\n",
    "import matplotlib.pyplot as plt\n",
    "from sympy import symbols, solve\n",
    "\n",
    "\n",
    "\n",
    "mpl.rcParams['pdf.fonttype'] = 42\n",
    "mpl.rcParams['ps.fonttype'] = 42\n",
    "fig_dpi      = 300\n",
    "fig_typeface = 'Helvetica'\n",
    "fig_family   = 'monospace'\n",
    "fig_style    = 'normal'"
   ]
  },
  {
   "cell_type": "markdown",
   "id": "e14df287",
   "metadata": {},
   "source": [
    "## Qustion 1"
   ]
  },
  {
   "cell_type": "code",
   "execution_count": null,
   "id": "2e415596",
   "metadata": {},
   "outputs": [],
   "source": [
    "# Haldane Prior:\n",
    "pHaldane = 1 - norm.cdf(0, loc=2.20, scale= 15/14)\n",
    "# Flat Prior:\n",
    "pFlat = 1 - norm.cdf(0, loc=np.log(29/5), scale= 4/5)\n",
    "# noninformative Prior:\n",
    "pNoninformative = 1 - norm.cdf(0, loc=np.log(7), scale= 2*(1/29+2/9+1/5))\n",
    "print(\"The probability corresponding to Haldane prior is : %.3f\"%pHaldane)\n",
    "print(\"The probability corresponding to Flat prior is : %.3f\"%pFlat)\n",
    "print(\"The probability corresponding to Noninformative prior is : %.3f\"%pNoninformative)"
   ]
  },
  {
   "cell_type": "code",
   "execution_count": null,
   "id": "aced8153",
   "metadata": {},
   "outputs": [],
   "source": [
    "dicParam = {\"Haldane\":[0, 0, 0, 0], \n",
    "           \"Flat\": [1, 1, 1, 1], \n",
    "           \"Noninformative\": [1/2, 1/2, 1/2, 1/2]}\n",
    "sampleSize = [int(1e4), int(1e5), int(1e6)]\n",
    "for key in dicParam.keys():\n",
    "    print(key, \" prior deviates: \")\n",
    "    dic = dicParam[key]\n",
    "    a = dic[0]\n",
    "\n",
    "    for _ in sampleSize:\n",
    "        print(_, \": Pr = \", end = \" \")\n",
    "        pi_ = beta.rvs(a + 14, a + 4, size = _)\n",
    "        phi_ = beta.rvs(a + 2, a + 4, size = _)\n",
    "        simulations = np.log(pi_/(1-pi_)) - np.log(phi_/(1-phi_))\n",
    "        print(len(simulations[simulations>0]) / _)"
   ]
  },
  {
   "cell_type": "code",
   "execution_count": null,
   "id": "e59dbb8a",
   "metadata": {},
   "outputs": [],
   "source": [
    "table = np.array([[14, 4], [2, 4]])\n",
    "odd_ratio, p_value = fisher_exact(table, alternative=\"greater\")\n",
    "odd_ratio, p_value"
   ]
  },
  {
   "cell_type": "code",
   "execution_count": null,
   "id": "1a9bb694",
   "metadata": {},
   "outputs": [],
   "source": []
  },
  {
   "cell_type": "markdown",
   "id": "c40df654",
   "metadata": {},
   "source": [
    "# Question 4"
   ]
  },
  {
   "cell_type": "code",
   "execution_count": null,
   "id": "d8b68cef",
   "metadata": {},
   "outputs": [],
   "source": [
    "def likelihood(theta, n):\n",
    "    n1, n2, n3, n4 = n\n",
    "    return (2+theta)**n1 * (1-theta)**n2 * (1-theta)**n3 * (theta)**n4"
   ]
  },
  {
   "cell_type": "code",
   "execution_count": null,
   "id": "d77c5529",
   "metadata": {},
   "outputs": [],
   "source": [
    "n = (125, 18, 20, 34)\n",
    "theta = np.linspace(0, 1, 1000000)\n",
    "L = likelihood(theta, n)\n",
    "I = integrate.quad(likelihood, 0, 1, args=[n[i] for i in range(4)])\n",
    "L_norm = L/(I[0] - I[1])\n",
    "\n",
    "theta_mle = theta[np.argmax(L)]\n",
    "print('Maximum Likelihood Estimate:', theta_mle)\n",
    "n_sum = np.sum(n)\n",
    "# I = np.array([\n",
    "#     [-np.sum(n_sum * (2+theta_mle)**2) / (2+theta_mle)**2, 0],\n",
    "#     [0, -np.sum(n_sum * (1-theta_mle)**2) / (1-theta_mle)**2]\n",
    "# ])\n",
    "# var_theta_mle = np.abs(np.linalg.inv(I).sum())\n",
    "var_theta_mle = 1/(-(-n[0]/(2+theta_mle)**2 - n[1]/(1-theta_mle)**2 - n[2]/(1-theta_mle)**2 - n[3]/theta_mle**2))\n",
    "print('Variance of MLE:', var_theta_mle)\n",
    "\n",
    "mu = theta_mle\n",
    "sigma = np.sqrt(var_theta_mle)\n",
    "print('Normal Approximation: N(%.4f, %.4f)' % (mu, sigma))"
   ]
  },
  {
   "cell_type": "code",
   "execution_count": null,
   "id": "f3910b65",
   "metadata": {},
   "outputs": [],
   "source": [
    "f, ax = plt.subplots(1, 1, figsize=(3, 3), facecolor='white', dpi=300, gridspec_kw={'hspace': 0., 'wspace': 0.})\n",
    "ax.plot(theta, L_norm, color = \"blue\",ls = '-', lw=1, label='Normalized Likelihood function', zorder = 1)\n",
    "plt.plot(theta, norm.pdf(theta, mu, sigma),ls = \"--\", lw = 1.1,color = \"red\",  label='Normal Approximation')\n",
    "# ax.plot(x, p_beta1, color = \"tab:blue\",ls = '--', lw=1, label='Beta(10.2, 23.8) pdf', zorder = 1)\n",
    "# ax.plot(x, p_beta2, color = \"tab:red\",ls = '--', lw=1, label='Uniform(20.4, 47.6) pdf', zorder = 1)\n",
    "\n",
    "ax.tick_params(axis='both', which='both', labelsize='xx-small', right=True, top=True, direction='in', width=.4)   \n",
    "ax.set_xlabel(r\"$\\theta$\", size='x-small')   \n",
    "ax.set_ylabel(\"Density\", size='x-small')\n",
    "ax.set_xlim([0, 1])\n",
    "ax.legend(loc = 2 ,fontsize = 4,markerscale = 3,ncol = 1,scatterpoints= 1,frameon = True,framealpha =0.).get_frame().set_linewidth(0.0)\n",
    "plt.show()\n",
    "# f.savefig(\"./HW5_4a.jpg\", bbox_inches = \"tight\")"
   ]
  },
  {
   "cell_type": "code",
   "execution_count": null,
   "id": "a4483046",
   "metadata": {},
   "outputs": [],
   "source": [
    "n = (14, 0, 1, 5)\n",
    "theta = np.linspace(0, 1, 1000000)\n",
    "L = likelihood(theta, n)\n",
    "I = integrate.quad(likelihood, 0, 1, args=[n[i] for i in range(4)])\n",
    "L_norm = L/(I[0] - I[1])\n",
    "\n",
    "theta_mle = theta[np.argmax(L)]\n",
    "print('Maximum Likelihood Estimate:', theta_mle)\n",
    "n_sum = np.sum(n)\n",
    "# I = np.array([\n",
    "#     [-np.sum(n_sum * (2+theta_mle)**2) / (2+theta_mle)**2, 0],\n",
    "#     [0, -np.sum(n_sum * (1-theta_mle)**2) / (1-theta_mle)**2]\n",
    "# ])\n",
    "# var_theta_mle = np.abs(np.linalg.inv(I).sum())\n",
    "var_theta_mle = 1/(-(-n[0]/(2+theta_mle)**2 - n[1]/(1-theta_mle)**2 - n[2]/(1-theta_mle)**2 - n[3]/theta_mle**2))\n",
    "print('Variance of MLE:', var_theta_mle)\n",
    "\n",
    "mu = theta_mle\n",
    "sigma = np.sqrt(var_theta_mle)\n",
    "print('Normal Approximation: N(%.4f, %.4f)' % (mu, sigma))"
   ]
  },
  {
   "cell_type": "code",
   "execution_count": null,
   "id": "8b3e24ca",
   "metadata": {},
   "outputs": [],
   "source": [
    "f, ax = plt.subplots(1, 1, figsize=(3, 3), facecolor='white', dpi=300, gridspec_kw={'hspace': 0., 'wspace': 0.})\n",
    "ax.plot(theta, L_norm, color = \"blue\",ls = '-', lw=1, label='Normalized Likelihood function', zorder = 1)\n",
    "plt.plot(theta, norm.pdf(theta, mu, sigma),ls = \"--\", lw = 1.1,color = \"red\",  label='Normal Approximation')\n",
    "# ax.plot(x, p_beta1, color = \"tab:blue\",ls = '--', lw=1, label='Beta(10.2, 23.8) pdf', zorder = 1)\n",
    "# ax.plot(x, p_beta2, color = \"tab:red\",ls = '--', lw=1, label='Uniform(20.4, 47.6) pdf', zorder = 1)\n",
    "\n",
    "ax.tick_params(axis='both', which='both', labelsize='xx-small', right=True, top=True, direction='in', width=.4)   \n",
    "ax.set_xlabel(r\"$\\theta$\", size='x-small')   \n",
    "ax.set_ylabel(\"Density\", size='x-small')\n",
    "ax.set_xlim([0, 1])\n",
    "ax.legend(loc = 2 ,fontsize = 4,markerscale = 3,ncol = 1,scatterpoints= 1,frameon = True,framealpha =0.).get_frame().set_linewidth(0.0)\n",
    "plt.show()\n",
    "# f.savefig(\"./HW5_4b.jpg\", bbox_inches = \"tight\")"
   ]
  },
  {
   "cell_type": "markdown",
   "id": "945c235b",
   "metadata": {},
   "source": [
    "# Question 5"
   ]
  },
  {
   "cell_type": "code",
   "execution_count": null,
   "id": "50119eb5",
   "metadata": {},
   "outputs": [],
   "source": [
    "def h(theta, n):\n",
    "    h = -1/(np.sum(n))*np.log(likelihood(theta, n))\n",
    "    return h\n",
    "def h_star(theta, n):\n",
    "    h_star = h(theta, n) - np.log(theta)/np.sum(n)\n",
    "    return h_star\n",
    "\n",
    "def sigmaL(theta, n):\n",
    "    n0, n1, n2, n3 = n\n",
    "    sigmaL = 1/np.sqrt(1/(np.sum(n)* (n0/(2+theta)**2 + n1/(1-theta)**2 + n2/(1-theta)**2 + n3/theta**2) ))\n",
    "    return sigmaL"
   ]
  },
  {
   "cell_type": "code",
   "execution_count": null,
   "id": "906246fa",
   "metadata": {},
   "outputs": [],
   "source": [
    "n1 = (125, 18, 20, 34)\n",
    "n2 = (14, 0, 1, 5)\n",
    "\n",
    "\n",
    "theta_hat1 = 0.6268215\n",
    "theta_star1 = 0.63099204\n",
    "theta_hat2 = 0.90344011\n",
    "theta_star2 = 0.90295653\n",
    "\n",
    "E_theta1 = sigmaL(theta_star1, n1)/sigmaL(theta_hat1, n1) * np.exp(-197*h_star(theta_star1, n1))/np.exp(-197*h(theta_hat1, n1))\n",
    "E_theta1"
   ]
  },
  {
   "cell_type": "code",
   "execution_count": null,
   "id": "e460388b",
   "metadata": {},
   "outputs": [],
   "source": [
    "E_theta2 = sigmaL(theta_star2, n2)/sigmaL(theta_hat2, n2) * np.exp(-20*h_star(theta_star2, n2))/np.exp(-20*h(theta_hat2, n2))\n",
    "E_theta2"
   ]
  },
  {
   "cell_type": "code",
   "execution_count": null,
   "id": "fc7bd0f6",
   "metadata": {},
   "outputs": [],
   "source": []
  }
 ],
 "metadata": {
  "kernelspec": {
   "display_name": "Python [conda env:MLStart] *",
   "language": "python",
   "name": "conda-env-MLStart-py"
  },
  "language_info": {
   "codemirror_mode": {
    "name": "ipython",
    "version": 3
   },
   "file_extension": ".py",
   "mimetype": "text/x-python",
   "name": "python",
   "nbconvert_exporter": "python",
   "pygments_lexer": "ipython3",
   "version": "3.9.15"
  }
 },
 "nbformat": 4,
 "nbformat_minor": 5
}
